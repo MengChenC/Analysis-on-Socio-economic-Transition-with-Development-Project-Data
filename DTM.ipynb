{
 "cells": [
  {
   "cell_type": "markdown",
   "metadata": {},
   "source": [
    "## Mini Project 2\n",
    "\n",
    "I will explore the prject trasition by fitting a Dynamic Topic Model (DTM) using Gensim."
   ]
  },
  {
   "cell_type": "markdown",
   "metadata": {},
   "source": [
    "#### Data cleaning"
   ]
  },
  {
   "cell_type": "code",
   "execution_count": 117,
   "metadata": {
    "scrolled": false
   },
   "outputs": [
    {
     "data": {
      "text/html": [
       "<div>\n",
       "<style scoped>\n",
       "    .dataframe tbody tr th:only-of-type {\n",
       "        vertical-align: middle;\n",
       "    }\n",
       "\n",
       "    .dataframe tbody tr th {\n",
       "        vertical-align: top;\n",
       "    }\n",
       "\n",
       "    .dataframe thead th {\n",
       "        text-align: right;\n",
       "    }\n",
       "</style>\n",
       "<table border=\"1\" class=\"dataframe\">\n",
       "  <thead>\n",
       "    <tr style=\"text-align: right;\">\n",
       "      <th></th>\n",
       "      <th>Date</th>\n",
       "      <th>Sector</th>\n",
       "      <th>Description</th>\n",
       "    </tr>\n",
       "  </thead>\n",
       "  <tbody>\n",
       "    <tr>\n",
       "      <th>0</th>\n",
       "      <td>NaN</td>\n",
       "      <td>HEALTH</td>\n",
       "      <td>The objective of the second individual loan op...</td>\n",
       "    </tr>\n",
       "    <tr>\n",
       "      <th>1</th>\n",
       "      <td>NaN</td>\n",
       "      <td>SUSTAINABLE TOURISM</td>\n",
       "      <td>The general objectives of the program are to i...</td>\n",
       "    </tr>\n",
       "    <tr>\n",
       "      <th>2</th>\n",
       "      <td>NaN</td>\n",
       "      <td>ENVIRONMENT AND NATURAL DISASTERS</td>\n",
       "      <td>The objective of the programmatic policy-based...</td>\n",
       "    </tr>\n",
       "    <tr>\n",
       "      <th>3</th>\n",
       "      <td>NaN</td>\n",
       "      <td>OTHER</td>\n",
       "      <td>The objective of this technical cooperation (T...</td>\n",
       "    </tr>\n",
       "    <tr>\n",
       "      <th>4</th>\n",
       "      <td>NaN</td>\n",
       "      <td>ENERGY</td>\n",
       "      <td>The general objective of this Technical Cooper...</td>\n",
       "    </tr>\n",
       "    <tr>\n",
       "      <th>...</th>\n",
       "      <td>...</td>\n",
       "      <td>...</td>\n",
       "      <td>...</td>\n",
       "    </tr>\n",
       "    <tr>\n",
       "      <th>17903</th>\n",
       "      <td>2-Jul-93</td>\n",
       "      <td>NaN</td>\n",
       "      <td>NaN</td>\n",
       "    </tr>\n",
       "    <tr>\n",
       "      <th>17904</th>\n",
       "      <td>30-Jun-93</td>\n",
       "      <td>FINANCIAL MARKETS</td>\n",
       "      <td>THE MAIN OBJECTIVE IS TO STRENGTHEN AND ACCELE...</td>\n",
       "    </tr>\n",
       "    <tr>\n",
       "      <th>17905</th>\n",
       "      <td>29-Jun-93</td>\n",
       "      <td>PRIVATE FIRMS AND SME DEVELOPMENT</td>\n",
       "      <td>INSTITUTIONAL STRENGTHENING OF COOPEBRISAS,IMP...</td>\n",
       "    </tr>\n",
       "    <tr>\n",
       "      <th>17906</th>\n",
       "      <td>29-Jun-93</td>\n",
       "      <td>PRIVATE FIRMS AND SME DEVELOPMENT</td>\n",
       "      <td>INSTITUTIONAL STRENGTHENING, IMPROVEMENT AND C...</td>\n",
       "    </tr>\n",
       "    <tr>\n",
       "      <th>17907</th>\n",
       "      <td>29-Jun-93</td>\n",
       "      <td>PRIVATE FIRMS AND SME DEVELOPMENT</td>\n",
       "      <td>INSTITUCIONAL STRENGTHENING OF APIAGOL, IMPROV...</td>\n",
       "    </tr>\n",
       "  </tbody>\n",
       "</table>\n",
       "<p>17908 rows × 3 columns</p>\n",
       "</div>"
      ],
      "text/plain": [
       "            Date                             Sector  \\\n",
       "0            NaN                             HEALTH   \n",
       "1            NaN                SUSTAINABLE TOURISM   \n",
       "2            NaN  ENVIRONMENT AND NATURAL DISASTERS   \n",
       "3            NaN                              OTHER   \n",
       "4            NaN                             ENERGY   \n",
       "...          ...                                ...   \n",
       "17903   2-Jul-93                                NaN   \n",
       "17904  30-Jun-93                  FINANCIAL MARKETS   \n",
       "17905  29-Jun-93  PRIVATE FIRMS AND SME DEVELOPMENT   \n",
       "17906  29-Jun-93  PRIVATE FIRMS AND SME DEVELOPMENT   \n",
       "17907  29-Jun-93  PRIVATE FIRMS AND SME DEVELOPMENT   \n",
       "\n",
       "                                             Description  \n",
       "0      The objective of the second individual loan op...  \n",
       "1      The general objectives of the program are to i...  \n",
       "2      The objective of the programmatic policy-based...  \n",
       "3      The objective of this technical cooperation (T...  \n",
       "4      The general objective of this Technical Cooper...  \n",
       "...                                                  ...  \n",
       "17903                                                NaN  \n",
       "17904  THE MAIN OBJECTIVE IS TO STRENGTHEN AND ACCELE...  \n",
       "17905  INSTITUTIONAL STRENGTHENING OF COOPEBRISAS,IMP...  \n",
       "17906  INSTITUTIONAL STRENGTHENING, IMPROVEMENT AND C...  \n",
       "17907  INSTITUCIONAL STRENGTHENING OF APIAGOL, IMPROV...  \n",
       "\n",
       "[17908 rows x 3 columns]"
      ]
     },
     "execution_count": 117,
     "metadata": {},
     "output_type": "execute_result"
    }
   ],
   "source": [
    "from gensim.models import LdaSeqModel\n",
    "from ipywidgets import interact\n",
    "import pyLDAvis\n",
    "import pandas as pd\n",
    "import dtm # custom module\n",
    "import matplotlib.pyplot as plt\n",
    "\n",
    "\n",
    "# read in file\n",
    "data = pd.read_csv('IDB archive.csv')\n",
    "# select only the columns we need\n",
    "data = data.loc[:, ['Date', 'Sector', 'Description']]\n",
    "data"
   ]
  },
  {
   "cell_type": "code",
   "execution_count": 118,
   "metadata": {
    "scrolled": true
   },
   "outputs": [],
   "source": [
    "# remove na in Sector or Description\n",
    "data = data.dropna(subset=['Sector', 'Description'])\n",
    "# filter out if Decription contains to little info\n",
    "data = data.loc[data['Description'].str.len() > 10] # data = data.loc[data['Description'] != 'EN']\n",
    "# fill rows without a date a 2021 data\n",
    "data['Date'] = data['Date'].fillna('01-Oct-21')\n",
    "# read in the date format\n",
    "data['Date'] = pd.to_datetime(data.Date, format='%d-%b-%y')\n",
    "# construct a year column\n",
    "data['Year'] = pd.DatetimeIndex(data['Date']).year.astype(int)\n",
    "# select again the columns we need\n",
    "data = data.loc[:, ['Year', 'Sector', 'Description']]\n",
    "# get the time inverval in 2000, 2010, 2020\n",
    "data = data.loc[data['Year'].isin((2000, 2010, 2020))]\n",
    "# change into ascending order\n",
    "data = data[::-1]"
   ]
  },
  {
   "cell_type": "code",
   "execution_count": 119,
   "metadata": {},
   "outputs": [],
   "source": [
    "# aggregate some sectors\n",
    "energy = data.loc[data['Sector'] == 'ENERGY']\n",
    "environment = data.loc[data['Sector'] == 'ENVIRONMENT AND NATURAL DISASTERS']\n",
    "sci_and_tech = data.loc[data['Sector'] == 'SCIENCE AND TECHNOLOGY']\n",
    "social_investment = data.loc[data['Sector'] == 'SOCIAL INVESTMENT']\n",
    "transport = data.loc[data['Sector'] == 'TRANSPORT']"
   ]
  },
  {
   "cell_type": "markdown",
   "metadata": {},
   "source": [
    "#### See the data distribution in each decade"
   ]
  },
  {
   "cell_type": "code",
   "execution_count": 120,
   "metadata": {},
   "outputs": [
    {
     "data": {
      "text/plain": [
       "Year\n",
       "2000     7\n",
       "2010    47\n",
       "2020    41\n",
       "Name: Description, dtype: int64"
      ]
     },
     "execution_count": 120,
     "metadata": {},
     "output_type": "execute_result"
    }
   ],
   "source": [
    "energy.groupby('Year')['Description'].count()"
   ]
  },
  {
   "cell_type": "code",
   "execution_count": 121,
   "metadata": {},
   "outputs": [
    {
     "data": {
      "text/plain": [
       "Year\n",
       "2000    22\n",
       "2010    65\n",
       "2020    56\n",
       "Name: Description, dtype: int64"
      ]
     },
     "execution_count": 121,
     "metadata": {},
     "output_type": "execute_result"
    }
   ],
   "source": [
    "environment.groupby('Year')['Description'].count()"
   ]
  },
  {
   "cell_type": "code",
   "execution_count": 122,
   "metadata": {},
   "outputs": [
    {
     "data": {
      "text/plain": [
       "Year\n",
       "2000     8\n",
       "2010    31\n",
       "2020    21\n",
       "Name: Description, dtype: int64"
      ]
     },
     "execution_count": 122,
     "metadata": {},
     "output_type": "execute_result"
    }
   ],
   "source": [
    "sci_and_tech.groupby('Year')['Description'].count()"
   ]
  },
  {
   "cell_type": "code",
   "execution_count": 123,
   "metadata": {},
   "outputs": [
    {
     "data": {
      "text/plain": [
       "Year\n",
       "2000    18\n",
       "2010    56\n",
       "2020    74\n",
       "Name: Description, dtype: int64"
      ]
     },
     "execution_count": 123,
     "metadata": {},
     "output_type": "execute_result"
    }
   ],
   "source": [
    "social_investment.groupby('Year')['Description'].count()"
   ]
  },
  {
   "cell_type": "code",
   "execution_count": 124,
   "metadata": {
    "scrolled": true
   },
   "outputs": [
    {
     "data": {
      "text/plain": [
       "Year\n",
       "2000     7\n",
       "2010    52\n",
       "2020    27\n",
       "Name: Description, dtype: int64"
      ]
     },
     "execution_count": 124,
     "metadata": {},
     "output_type": "execute_result"
    }
   ],
   "source": [
    "transport.groupby('Year')['Description'].count()"
   ]
  },
  {
   "cell_type": "markdown",
   "metadata": {},
   "source": [
    "#### Sector: Energy"
   ]
  },
  {
   "cell_type": "markdown",
   "metadata": {},
   "source": [
    "Stem, tokenize, and prepare the data"
   ]
  },
  {
   "cell_type": "code",
   "execution_count": 154,
   "metadata": {},
   "outputs": [
    {
     "data": {
      "text/plain": [
       "14443    [oper, oversight, regulatori, plan, function, ...\n",
       "14434    [propos, first, phase, feasibl, studi, sulphur...\n",
       "14264    [design, train, program, regulatori, agent, ar...\n",
       "14138    [assist, carri, feasibl, studi, strengthen, ex...\n",
       "14129    [studi, undertaken, prefeas, studi, whose, ana...\n",
       "Name: Description, dtype: object"
      ]
     },
     "execution_count": 154,
     "metadata": {},
     "output_type": "execute_result"
    }
   ],
   "source": [
    "stemmed_tokens = dtm.tokenize(energy['Description']) # clean text and tokenize and stem it\n",
    "\n",
    "stemmed_tokens.head()"
   ]
  },
  {
   "cell_type": "code",
   "execution_count": 155,
   "metadata": {},
   "outputs": [],
   "source": [
    "dictionary, bow_corpus = dtm.prepare_data(stemmed_tokens)"
   ]
  },
  {
   "cell_type": "code",
   "execution_count": 156,
   "metadata": {},
   "outputs": [
    {
     "data": {
      "text/plain": [
       "[7, 47, 41]"
      ]
     },
     "execution_count": 156,
     "metadata": {},
     "output_type": "execute_result"
    }
   ],
   "source": [
    "time_slice = energy.groupby('Year')['Description'].count().to_list()\n",
    "time_slice"
   ]
  },
  {
   "cell_type": "markdown",
   "metadata": {},
   "source": [
    "Decide the best number of topics by calculating the coherence"
   ]
  },
  {
   "cell_type": "code",
   "execution_count": 12,
   "metadata": {},
   "outputs": [
    {
     "data": {
      "image/png": "[encoded data removed]",
      "text/plain": [
       "<Figure size 432x288 with 1 Axes>"
      ]
     },
     "metadata": {
      "needs_background": "light"
     },
     "output_type": "display_data"
    }
   ],
   "source": [
    "model_list, coherence_values = dtm.compute_coherence_values(dictionary=dictionary,\n",
    "                                                           corpus=bow_corpus,\n",
    "                                                           texts=stemmed_tokens,\n",
    "                                                           start=2,\n",
    "                                                           limit=11,\n",
    "                                                           step=1)\n",
    "plt.plot(range(2, 11, 1), coherence_values)\n",
    "plt.xlabel(\"Number of Topics\")\n",
    "plt.ylabel(\"Coherence score\")\n",
    "plt.legend((\"coherence_values\"), loc='best');"
   ]
  },
  {
   "cell_type": "code",
   "execution_count": 13,
   "metadata": {
    "scrolled": true
   },
   "outputs": [
    {
     "name": "stderr",
     "output_type": "stream",
     "text": [
      "/home/mengchenc/anaconda3/envs/macs30124/lib/python3.7/site-packages/gensim/models/ldaseqmodel.py:297: RuntimeWarning: divide by zero encountered in double_scalars\n",
      "  convergence = np.fabs((bound - old_bound) / old_bound)\n"
     ]
    }
   ],
   "source": [
    "# fit model\n",
    "ldaseq = LdaSeqModel(bow_corpus,\n",
    "                     time_slice,\n",
    "                     id2word=dictionary,\n",
    "                     num_topics=2)"
   ]
  },
  {
   "cell_type": "markdown",
   "metadata": {},
   "source": [
    "generate a coherence score for the topics ***at each time slice***"
   ]
  },
  {
   "cell_type": "code",
   "execution_count": 14,
   "metadata": {},
   "outputs": [
    {
     "name": "stdout",
     "output_type": "stream",
     "text": [
      "Coherence at Time Slice 0: -5.303894604632175\n",
      "Coherence at Time Slice 1: -5.251445691189986\n",
      "Coherence at Time Slice 2: -5.190039844515326\n",
      "Average Coherence:  -5.2484600467791624\n"
     ]
    }
   ],
   "source": [
    "coherence = dtm.dtm_coherence([ldaseq],\n",
    "                              bow_corpus,\n",
    "                              dictionary,\n",
    "                              n_time_slices=len(time_slice))\n",
    "\n",
    "# check coherence for each model at each time slice\n",
    "for i, score in enumerate(coherence[0]):\n",
    "    print(\"Coherence at Time Slice {}:\".format(i), score)\n",
    "\n",
    "# compute averages for overall comparison of models\n",
    "print(\"Average Coherence: \", \n",
    "      sum(coherence[0]) / len(coherence[0]))"
   ]
  },
  {
   "cell_type": "markdown",
   "metadata": {},
   "source": [
    "The default DTM remains mostly the same over time with only few minor variations"
   ]
  },
  {
   "cell_type": "code",
   "execution_count": 15,
   "metadata": {
    "scrolled": false
   },
   "outputs": [
    {
     "name": "stdout",
     "output_type": "stream",
     "text": [
      "##### Topic 0, Time Slice 0 #####\n",
      "['oper', 'project', 'cooper', 'provid', 'effici', 'capac', 'studi', 'object', 'sustain', 'servic']\n",
      "##### Topic 0, Time Slice 1 #####\n",
      "['oper', 'project', 'cooper', 'provid', 'effici', 'capac', 'studi', 'object', 'sustain', 'servic']\n",
      "##### Topic 0, Time Slice 2 #####\n",
      "['oper', 'project', 'cooper', 'effici', 'provid', 'capac', 'object', 'studi', 'sustain', 'servic']\n",
      "\n",
      "\n",
      "##### Topic 1, Time Slice 0 #####\n",
      "['contribut', 'use', 'studi', 'sustain', 'promot', 'term', 'action', 'identifi', 'area', 'haiti']\n",
      "##### Topic 1, Time Slice 1 #####\n",
      "['contribut', 'use', 'studi', 'sustain', 'promot', 'term', 'action', 'area', 'identifi', 'haiti']\n",
      "##### Topic 1, Time Slice 2 #####\n",
      "['contribut', 'use', 'studi', 'sustain', 'promot', 'action', 'term', 'area', 'identifi', 'haiti']\n",
      "\n",
      "\n"
     ]
    }
   ],
   "source": [
    "dtm.print_dtm(ldaseq, n_topics=2, n_time_slices=3)"
   ]
  },
  {
   "cell_type": "code",
   "execution_count": 16,
   "metadata": {},
   "outputs": [],
   "source": [
    "# save to/load from file:\n",
    "ldaseq.save('dtm.model_1')\n",
    "\n",
    "# ldaseq = LdaSeqModel.load('dtm.model_1')"
   ]
  },
  {
   "cell_type": "markdown",
   "metadata": {},
   "source": [
    "tweak the variance parameter so that topics are allowed to change more between time slices"
   ]
  },
  {
   "cell_type": "code",
   "execution_count": 17,
   "metadata": {},
   "outputs": [
    {
     "name": "stderr",
     "output_type": "stream",
     "text": [
      "/home/mengchenc/anaconda3/envs/macs30124/lib/python3.7/site-packages/gensim/models/ldaseqmodel.py:297: RuntimeWarning: divide by zero encountered in double_scalars\n",
      "  convergence = np.fabs((bound - old_bound) / old_bound)\n"
     ]
    }
   ],
   "source": [
    "# train model with higher chain variance (e.g. topics are allowed to change more between time slices)\n",
    "ldaseq = LdaSeqModel(bow_corpus,\n",
    "                     time_slice,\n",
    "                     id2word=dictionary,\n",
    "                     num_topics=2,\n",
    "                     chain_variance=0.5)"
   ]
  },
  {
   "cell_type": "code",
   "execution_count": 18,
   "metadata": {},
   "outputs": [
    {
     "name": "stdout",
     "output_type": "stream",
     "text": [
      "Coherence at Time Slice 0: -5.925686018863983\n",
      "Coherence at Time Slice 1: -6.786079927891453\n",
      "Coherence at Time Slice 2: -5.406457680744179\n",
      "Average Coherence:  -6.039407875833206\n",
      "##### Topic 0, Time Slice 0 #####\n",
      "['communiti', 'rural', 'provid', 'term', 'plan', 'assist', 'use', 'cooper', 'system', 'long']\n",
      "##### Topic 0, Time Slice 1 #####\n",
      "['term', 'communiti', 'provid', 'use', 'long', 'haiti', 'activ', 'grant', 'includ', 'plan']\n",
      "##### Topic 0, Time Slice 2 #####\n",
      "['cooper', 'sector', 'natur', 'oper', 'contribut', 'object', 'use', 'build', 'propos', 'impact']\n",
      "\n",
      "\n",
      "##### Topic 1, Time Slice 0 #####\n",
      "['studi', 'project', 'servic', 'econom', 'market', 'work', 'capac', 'object', 'regulatori', 'use']\n",
      "##### Topic 1, Time Slice 1 #####\n",
      "['studi', 'sustain', 'reduc', 'project', 'environment', 'promot', 'econom', 'contribut', 'area', 'compon']\n",
      "##### Topic 1, Time Slice 2 #####\n",
      "['contribut', 'project', 'promot', 'cooper', 'sustain', 'econom', 'oper', 'studi', 'environment', 'prepar']\n",
      "\n",
      "\n"
     ]
    }
   ],
   "source": [
    "coherence = dtm.dtm_coherence([ldaseq],\n",
    "                              bow_corpus,\n",
    "                              dictionary,\n",
    "                              n_time_slices=len(time_slice))\n",
    "\n",
    "# check coherence for each model at each time slice\n",
    "for i, score in enumerate(coherence[0]):\n",
    "    print(\"Coherence at Time Slice {}:\".format(i), score)\n",
    "\n",
    "# compute averages for overall comparison of models\n",
    "print(\"Average Coherence: \", \n",
    "      sum(coherence[0]) / len(coherence[0]))\n",
    "\n",
    "dtm.print_dtm(ldaseq, n_topics=2, n_time_slices=3)"
   ]
  },
  {
   "cell_type": "code",
   "execution_count": 19,
   "metadata": {},
   "outputs": [],
   "source": [
    "# optionally, save to/load from file:\n",
    "ldaseq.save('dtm_var5.model_1')\n",
    "\n",
    "# ldaseq = LdaSeqModel.load('dtm_var5.model_1')"
   ]
  },
  {
   "cell_type": "code",
   "execution_count": 157,
   "metadata": {},
   "outputs": [
    {
     "data": {
      "text/html": [
       "<div>\n",
       "<style scoped>\n",
       "    .dataframe tbody tr th:only-of-type {\n",
       "        vertical-align: middle;\n",
       "    }\n",
       "\n",
       "    .dataframe tbody tr th {\n",
       "        vertical-align: top;\n",
       "    }\n",
       "\n",
       "    .dataframe thead th {\n",
       "        text-align: right;\n",
       "    }\n",
       "</style>\n",
       "<table border=\"1\" class=\"dataframe\">\n",
       "  <thead>\n",
       "    <tr style=\"text-align: right;\">\n",
       "      <th></th>\n",
       "      <th>index</th>\n",
       "      <th>Year</th>\n",
       "      <th>Sector</th>\n",
       "      <th>Description</th>\n",
       "      <th>topic0</th>\n",
       "      <th>topic1</th>\n",
       "    </tr>\n",
       "  </thead>\n",
       "  <tbody>\n",
       "    <tr>\n",
       "      <th>0</th>\n",
       "      <td>14443</td>\n",
       "      <td>2000</td>\n",
       "      <td>ENERGY</td>\n",
       "      <td>The general objective of this operation is to ...</td>\n",
       "      <td>0.000370</td>\n",
       "      <td>0.999630</td>\n",
       "    </tr>\n",
       "    <tr>\n",
       "      <th>1</th>\n",
       "      <td>14434</td>\n",
       "      <td>2000</td>\n",
       "      <td>ENERGY</td>\n",
       "      <td>The objective of the proposed project is to su...</td>\n",
       "      <td>0.000907</td>\n",
       "      <td>0.999093</td>\n",
       "    </tr>\n",
       "    <tr>\n",
       "      <th>2</th>\n",
       "      <td>14264</td>\n",
       "      <td>2000</td>\n",
       "      <td>ENERGY</td>\n",
       "      <td>The specific objective is to support the desig...</td>\n",
       "      <td>0.000333</td>\n",
       "      <td>0.999667</td>\n",
       "    </tr>\n",
       "    <tr>\n",
       "      <th>3</th>\n",
       "      <td>14138</td>\n",
       "      <td>2000</td>\n",
       "      <td>ENERGY</td>\n",
       "      <td>The objective of the technical assistance is t...</td>\n",
       "      <td>0.001247</td>\n",
       "      <td>0.998753</td>\n",
       "    </tr>\n",
       "    <tr>\n",
       "      <th>4</th>\n",
       "      <td>14129</td>\n",
       "      <td>2000</td>\n",
       "      <td>ENERGY</td>\n",
       "      <td>The study that will be undertaken is a pre-fea...</td>\n",
       "      <td>0.000137</td>\n",
       "      <td>0.999863</td>\n",
       "    </tr>\n",
       "  </tbody>\n",
       "</table>\n",
       "</div>"
      ],
      "text/plain": [
       "   index  Year  Sector                                        Description  \\\n",
       "0  14443  2000  ENERGY  The general objective of this operation is to ...   \n",
       "1  14434  2000  ENERGY  The objective of the proposed project is to su...   \n",
       "2  14264  2000  ENERGY  The specific objective is to support the desig...   \n",
       "3  14138  2000  ENERGY  The objective of the technical assistance is t...   \n",
       "4  14129  2000  ENERGY  The study that will be undertaken is a pre-fea...   \n",
       "\n",
       "     topic0    topic1  \n",
       "0  0.000370  0.999630  \n",
       "1  0.000907  0.999093  \n",
       "2  0.000333  0.999667  \n",
       "3  0.001247  0.998753  \n",
       "4  0.000137  0.999863  "
      ]
     },
     "execution_count": 157,
     "metadata": {},
     "output_type": "execute_result"
    }
   ],
   "source": [
    "topic_weights = pd.DataFrame([ldaseq.doc_topics(j) for j in range(len(bow_corpus))],\n",
    "                             columns=['topic0', 'topic1'])\n",
    "df = energy.reset_index() \\\n",
    "            .merge(topic_weights,\n",
    "                   left_index=True,\n",
    "                   right_index=True)\n",
    "df.head()"
   ]
  },
  {
   "cell_type": "markdown",
   "metadata": {},
   "source": [
    "visualization with pyLDAvis"
   ]
  },
  {
   "cell_type": "code",
   "execution_count": 158,
   "metadata": {},
   "outputs": [
    {
     "data": {
      "application/vnd.jupyter.widget-view+json": {
       "model_id": "9fb56fce3b2448ce99724fd859650f69",
       "version_major": 2,
       "version_minor": 0
      },
      "text/plain": [
       "interactive(children=(Dropdown(description='Year', options=('2000', '2010', '2020'), value='2000'), Output()),…"
      ]
     },
     "metadata": {},
     "output_type": "display_data"
    }
   ],
   "source": [
    "pyLDAvis.enable_notebook()\n",
    "\n",
    "# Create pyLDAvis visualization for each year:\n",
    "vis = {}\n",
    "dates = pd.Series(['2000', '2010', '2020'])\n",
    "for i in range(3):\n",
    "    doc_topic, topic_term, doc_lengths, term_frequency, vocab = ldaseq.dtm_vis(time=i, corpus=bow_corpus)\n",
    "    vis[dates[i]] = pyLDAvis.prepare(topic_term_dists=topic_term,\n",
    "                                            doc_topic_dists=doc_topic,\n",
    "                                            doc_lengths=doc_lengths,\n",
    "                                            vocab=vocab,\n",
    "                                            term_frequency=term_frequency)\n",
    "\n",
    "# Make an interactive plot so we can cycle through topics by year:\n",
    "@interact(Year=dates)\n",
    "def f(Year):\n",
    "    return vis[Year]\n",
    "\n",
    "# optionally save\n",
    "#for i in range(len(time_slice)):\n",
    "#    pyLDAvis.save_html(vis[dates[i]], 'lda_t{}.html'.format(i))"
   ]
  },
  {
   "cell_type": "markdown",
   "metadata": {},
   "source": [
    "#### Sector: Environment"
   ]
  },
  {
   "cell_type": "code",
   "execution_count": 125,
   "metadata": {},
   "outputs": [
    {
     "data": {
      "text/plain": [
       "14469    [improv, environment, safer, dispos, solid, wa...\n",
       "14468    [oper, feasibl, plan, recuper, approxim, hecta...\n",
       "14429    [loan, resourc, urgent, activ, remov, debri, d...\n",
       "14400    [perform, basic, studi, design, guarante, fund...\n",
       "14398    [global, esnacifor, region, train, center, for...\n",
       "Name: Description, dtype: object"
      ]
     },
     "execution_count": 125,
     "metadata": {},
     "output_type": "execute_result"
    }
   ],
   "source": [
    "stemmed_tokens = dtm.tokenize(environment['Description']) # clean text and tokenize and stem it\n",
    "\n",
    "stemmed_tokens.head()"
   ]
  },
  {
   "cell_type": "code",
   "execution_count": 126,
   "metadata": {},
   "outputs": [],
   "source": [
    "dictionary, bow_corpus = dtm.prepare_data(stemmed_tokens)"
   ]
  },
  {
   "cell_type": "code",
   "execution_count": 127,
   "metadata": {},
   "outputs": [
    {
     "data": {
      "text/plain": [
       "[22, 65, 56]"
      ]
     },
     "execution_count": 127,
     "metadata": {},
     "output_type": "execute_result"
    }
   ],
   "source": [
    "time_slice = environment.groupby('Year')['Description'].count().to_list()\n",
    "time_slice"
   ]
  },
  {
   "cell_type": "code",
   "execution_count": 41,
   "metadata": {
    "scrolled": true
   },
   "outputs": [
    {
     "data": {
      "image/png": "[encoded data removed]",
      "text/plain": [
       "<Figure size 432x288 with 1 Axes>"
      ]
     },
     "metadata": {
      "needs_background": "light"
     },
     "output_type": "display_data"
    }
   ],
   "source": [
    "model_list, coherence_values = dtm.compute_coherence_values(dictionary=dictionary,\n",
    "                                                           corpus=bow_corpus,\n",
    "                                                           texts=stemmed_tokens,\n",
    "                                                           start=2,\n",
    "                                                           limit=11,\n",
    "                                                           step=1)\n",
    "plt.plot(range(2, 11, 1), coherence_values)\n",
    "plt.xlabel(\"Number of Topics\")\n",
    "plt.ylabel(\"Coherence score\")\n",
    "plt.legend((\"coherence_values\"), loc='best');"
   ]
  },
  {
   "cell_type": "code",
   "execution_count": 140,
   "metadata": {},
   "outputs": [
    {
     "name": "stderr",
     "output_type": "stream",
     "text": [
      "/home/mengchenc/anaconda3/envs/macs30124/lib/python3.7/site-packages/gensim/models/ldaseqmodel.py:297: RuntimeWarning: divide by zero encountered in double_scalars\n",
      "  convergence = np.fabs((bound - old_bound) / old_bound)\n"
     ]
    }
   ],
   "source": [
    "# fit model\n",
    "ldaseq = LdaSeqModel(bow_corpus,\n",
    "                     time_slice,\n",
    "                     id2word=dictionary,\n",
    "                     num_topics=3)"
   ]
  },
  {
   "cell_type": "markdown",
   "metadata": {},
   "source": [
    "generate a coherence score for the topics ***at each time slice***"
   ]
  },
  {
   "cell_type": "code",
   "execution_count": 141,
   "metadata": {},
   "outputs": [
    {
     "name": "stdout",
     "output_type": "stream",
     "text": [
      "Coherence at Time Slice 0: -4.78013160007911\n",
      "Coherence at Time Slice 1: -4.777939486268504\n",
      "Coherence at Time Slice 2: -4.778104943600908\n",
      "Average Coherence:  -4.778725343316174\n"
     ]
    }
   ],
   "source": [
    "coherence = dtm.dtm_coherence([ldaseq],\n",
    "                              bow_corpus,\n",
    "                              dictionary,\n",
    "                              n_time_slices=len(time_slice))\n",
    "\n",
    "# check coherence for each model at each time slice\n",
    "for i, score in enumerate(coherence[0]):\n",
    "    print(\"Coherence at Time Slice {}:\".format(i), score)\n",
    "\n",
    "# compute averages for overall comparison of models\n",
    "print(\"Average Coherence: \", \n",
    "      sum(coherence[0]) / len(coherence[0]))"
   ]
  },
  {
   "cell_type": "code",
   "execution_count": 142,
   "metadata": {
    "scrolled": false
   },
   "outputs": [
    {
     "name": "stdout",
     "output_type": "stream",
     "text": [
      "##### Topic 0, Time Slice 0 #####\n",
      "['climat', 'chang', 'manag', 'adapt', 'nation', 'capac', 'sustain', 'promot', 'oper', 'institut']\n",
      "##### Topic 0, Time Slice 1 #####\n",
      "['climat', 'chang', 'manag', 'adapt', 'nation', 'capac', 'sustain', 'promot', 'oper', 'institut']\n",
      "##### Topic 0, Time Slice 2 #####\n",
      "['climat', 'chang', 'manag', 'nation', 'adapt', 'capac', 'sustain', 'promot', 'oper', 'institut']\n",
      "\n",
      "\n",
      "##### Topic 1, Time Slice 0 #####\n",
      "['manag', 'provid', 'polici', 'risk', 'institut', 'coastal', 'loan', 'oper', 'disast', 'resili']\n",
      "##### Topic 1, Time Slice 1 #####\n",
      "['manag', 'provid', 'polici', 'risk', 'institut', 'coastal', 'loan', 'oper', 'disast', 'resili']\n",
      "##### Topic 1, Time Slice 2 #####\n",
      "['manag', 'provid', 'polici', 'risk', 'institut', 'coastal', 'loan', 'oper', 'disast', 'resili']\n",
      "\n",
      "\n",
      "##### Topic 2, Time Slice 0 #####\n",
      "['humanitarian', 'affect', 'cooper', 'environment', 'assist', 'action', 'emerg', 'sustain', 'inform', 'popul']\n",
      "##### Topic 2, Time Slice 1 #####\n",
      "['affect', 'humanitarian', 'cooper', 'assist', 'environment', 'action', 'emerg', 'inform', 'sustain', 'popul']\n",
      "##### Topic 2, Time Slice 2 #####\n",
      "['humanitarian', 'affect', 'cooper', 'assist', 'environment', 'action', 'emerg', 'inform', 'sustain', 'popul']\n",
      "\n",
      "\n"
     ]
    }
   ],
   "source": [
    "dtm.print_dtm(ldaseq, n_topics=3, n_time_slices=3)"
   ]
  },
  {
   "cell_type": "code",
   "execution_count": 143,
   "metadata": {},
   "outputs": [],
   "source": [
    "# save to/load from file:\n",
    "ldaseq.save('dtm.model_2')\n",
    "\n",
    "# ldaseq = LdaSeqModel.load('dtm.model_2')"
   ]
  },
  {
   "cell_type": "markdown",
   "metadata": {},
   "source": [
    "tweak the variance parameter so that topics are allowed to change more between time slices"
   ]
  },
  {
   "cell_type": "code",
   "execution_count": 148,
   "metadata": {},
   "outputs": [
    {
     "name": "stderr",
     "output_type": "stream",
     "text": [
      "/home/mengchenc/anaconda3/envs/macs30124/lib/python3.7/site-packages/gensim/models/ldaseqmodel.py:297: RuntimeWarning: divide by zero encountered in double_scalars\n",
      "  convergence = np.fabs((bound - old_bound) / old_bound)\n"
     ]
    }
   ],
   "source": [
    "# train model with higher chain variance (e.g. topics are allowed to change more between time slices)\n",
    "ldaseq = LdaSeqModel(bow_corpus,\n",
    "                     time_slice,\n",
    "                     id2word=dictionary,\n",
    "                     num_topics=3,\n",
    "                     chain_variance=0.5)"
   ]
  },
  {
   "cell_type": "code",
   "execution_count": 149,
   "metadata": {
    "scrolled": false
   },
   "outputs": [
    {
     "name": "stdout",
     "output_type": "stream",
     "text": [
      "Coherence at Time Slice 0: -4.253948718025196\n",
      "Coherence at Time Slice 1: -4.211849817354959\n",
      "Coherence at Time Slice 2: -5.876144008497239\n",
      "Average Coherence:  -4.780647514625798\n",
      "##### Topic 0, Time Slice 0 #####\n",
      "['environment', 'manag', 'servic', 'smes', 'forest', 'suppli', 'plan', 'cp', 'demand', 'promot']\n",
      "##### Topic 0, Time Slice 1 #####\n",
      "['forest', 'manag', 'environment', 'sustain', 'communiti', 'nation', 'action', 'plan', 'cooper', 'humanitarian']\n",
      "##### Topic 0, Time Slice 2 #####\n",
      "['sustain', 'forest', 'manag', 'provid', 'deforest', 'environment', 'use', 'nation', 'platform', 'plan']\n",
      "\n",
      "\n",
      "##### Topic 1, Time Slice 0 #####\n",
      "['state', 'manag', 'prepar', 'sustain', 'oper', 'acr', 'cooper', 'environment', 'activ', 'climat']\n",
      "##### Topic 1, Time Slice 1 #####\n",
      "['climat', 'chang', 'manag', 'institut', 'mitig', 'cooper', 'polici', 'assist', 'provid', 'promot']\n",
      "##### Topic 1, Time Slice 2 #####\n",
      "['humanitarian', 'affect', 'assist', 'oper', 'emerg', 'cooper', 'tropic', 'provis', 'polici', 'nation']\n",
      "\n",
      "\n",
      "##### Topic 2, Time Slice 0 #####\n",
      "['water', 'manag', 'climat', 'chang', 'natur', 'area', 'oper', 'resourc', 'object', 'vulner']\n",
      "##### Topic 2, Time Slice 1 #####\n",
      "['climat', 'chang', 'adapt', 'capac', 'manag', 'vulner', 'nation', 'object', 'risk', 'mitig']\n",
      "##### Topic 2, Time Slice 2 #####\n",
      "['climat', 'nation', 'provid', 'oper', 'object', 'sustain', 'fund', 'design', 'chang', 'idb']\n",
      "\n",
      "\n"
     ]
    }
   ],
   "source": [
    "coherence = dtm.dtm_coherence([ldaseq],\n",
    "                              bow_corpus,\n",
    "                              dictionary,\n",
    "                              n_time_slices=len(time_slice))\n",
    "\n",
    "# check coherence for each model at each time slice\n",
    "for i, score in enumerate(coherence[0]):\n",
    "    print(\"Coherence at Time Slice {}:\".format(i), score)\n",
    "\n",
    "# compute averages for overall comparison of models\n",
    "print(\"Average Coherence: \", \n",
    "      sum(coherence[0]) / len(coherence[0]))\n",
    "\n",
    "dtm.print_dtm(ldaseq, n_topics=3, n_time_slices=3)"
   ]
  },
  {
   "cell_type": "code",
   "execution_count": 150,
   "metadata": {},
   "outputs": [],
   "source": [
    "# optionally, save to/load from file:\n",
    "ldaseq.save('dtm_var5.model_2')\n",
    "\n",
    "# ldaseq = LdaSeqModel.load('dtm_var5.model_2')"
   ]
  },
  {
   "cell_type": "code",
   "execution_count": 151,
   "metadata": {},
   "outputs": [
    {
     "data": {
      "text/html": [
       "<div>\n",
       "<style scoped>\n",
       "    .dataframe tbody tr th:only-of-type {\n",
       "        vertical-align: middle;\n",
       "    }\n",
       "\n",
       "    .dataframe tbody tr th {\n",
       "        vertical-align: top;\n",
       "    }\n",
       "\n",
       "    .dataframe thead th {\n",
       "        text-align: right;\n",
       "    }\n",
       "</style>\n",
       "<table border=\"1\" class=\"dataframe\">\n",
       "  <thead>\n",
       "    <tr style=\"text-align: right;\">\n",
       "      <th></th>\n",
       "      <th>index</th>\n",
       "      <th>Year</th>\n",
       "      <th>Sector</th>\n",
       "      <th>Description</th>\n",
       "      <th>topic0</th>\n",
       "      <th>topic1</th>\n",
       "      <th>topic2</th>\n",
       "    </tr>\n",
       "  </thead>\n",
       "  <tbody>\n",
       "    <tr>\n",
       "      <th>0</th>\n",
       "      <td>14469</td>\n",
       "      <td>2000</td>\n",
       "      <td>ENVIRONMENT AND NATURAL DISASTERS</td>\n",
       "      <td>TO SUPPORT AN IMPROVED AND ENVIRONMENTALLY SAF...</td>\n",
       "      <td>0.000831</td>\n",
       "      <td>0.998337</td>\n",
       "      <td>0.000831</td>\n",
       "    </tr>\n",
       "    <tr>\n",
       "      <th>1</th>\n",
       "      <td>14468</td>\n",
       "      <td>2000</td>\n",
       "      <td>ENVIRONMENT AND NATURAL DISASTERS</td>\n",
       "      <td>The objective of the operation is to develop a...</td>\n",
       "      <td>0.000192</td>\n",
       "      <td>0.000192</td>\n",
       "      <td>0.999616</td>\n",
       "    </tr>\n",
       "    <tr>\n",
       "      <th>2</th>\n",
       "      <td>14429</td>\n",
       "      <td>2000</td>\n",
       "      <td>ENVIRONMENT AND NATURAL DISASTERS</td>\n",
       "      <td>LOAN RESOURCES WILL FINANCE URGENT ACTIVITIES ...</td>\n",
       "      <td>0.000384</td>\n",
       "      <td>0.643420</td>\n",
       "      <td>0.356196</td>\n",
       "    </tr>\n",
       "    <tr>\n",
       "      <th>3</th>\n",
       "      <td>14400</td>\n",
       "      <td>2000</td>\n",
       "      <td>ENVIRONMENT AND NATURAL DISASTERS</td>\n",
       "      <td>Perform the basic studies to support the desig...</td>\n",
       "      <td>0.000256</td>\n",
       "      <td>0.999488</td>\n",
       "      <td>0.000256</td>\n",
       "    </tr>\n",
       "    <tr>\n",
       "      <th>4</th>\n",
       "      <td>14398</td>\n",
       "      <td>2000</td>\n",
       "      <td>ENVIRONMENT AND NATURAL DISASTERS</td>\n",
       "      <td>The global objective of this TC is to develop ...</td>\n",
       "      <td>0.001422</td>\n",
       "      <td>0.997155</td>\n",
       "      <td>0.001422</td>\n",
       "    </tr>\n",
       "  </tbody>\n",
       "</table>\n",
       "</div>"
      ],
      "text/plain": [
       "   index  Year                             Sector  \\\n",
       "0  14469  2000  ENVIRONMENT AND NATURAL DISASTERS   \n",
       "1  14468  2000  ENVIRONMENT AND NATURAL DISASTERS   \n",
       "2  14429  2000  ENVIRONMENT AND NATURAL DISASTERS   \n",
       "3  14400  2000  ENVIRONMENT AND NATURAL DISASTERS   \n",
       "4  14398  2000  ENVIRONMENT AND NATURAL DISASTERS   \n",
       "\n",
       "                                         Description    topic0    topic1  \\\n",
       "0  TO SUPPORT AN IMPROVED AND ENVIRONMENTALLY SAF...  0.000831  0.998337   \n",
       "1  The objective of the operation is to develop a...  0.000192  0.000192   \n",
       "2  LOAN RESOURCES WILL FINANCE URGENT ACTIVITIES ...  0.000384  0.643420   \n",
       "3  Perform the basic studies to support the desig...  0.000256  0.999488   \n",
       "4  The global objective of this TC is to develop ...  0.001422  0.997155   \n",
       "\n",
       "     topic2  \n",
       "0  0.000831  \n",
       "1  0.999616  \n",
       "2  0.356196  \n",
       "3  0.000256  \n",
       "4  0.001422  "
      ]
     },
     "execution_count": 151,
     "metadata": {},
     "output_type": "execute_result"
    }
   ],
   "source": [
    "topic_weights = pd.DataFrame([ldaseq.doc_topics(j) for j in range(len(bow_corpus))],\n",
    "                             columns=['topic0', 'topic1', 'topic2'])\n",
    "df = environment.reset_index() \\\n",
    "            .merge(topic_weights,\n",
    "                   left_index=True,\n",
    "                   right_index=True)\n",
    "df.head()"
   ]
  },
  {
   "cell_type": "markdown",
   "metadata": {},
   "source": [
    "visualization with pyLDAvis"
   ]
  },
  {
   "cell_type": "code",
   "execution_count": 152,
   "metadata": {
    "scrolled": false
   },
   "outputs": [
    {
     "data": {
      "application/vnd.jupyter.widget-view+json": {
       "model_id": "56e069d3e6864e76a00342f083b296d9",
       "version_major": 2,
       "version_minor": 0
      },
      "text/plain": [
       "interactive(children=(Dropdown(description='Year', options=('2000', '2010', '2020'), value='2000'), Output()),…"
      ]
     },
     "metadata": {},
     "output_type": "display_data"
    }
   ],
   "source": [
    "pyLDAvis.enable_notebook()\n",
    "\n",
    "# Create pyLDAvis visualization for each year:\n",
    "vis = {}\n",
    "dates = pd.Series(['2000', '2010', '2020'])\n",
    "for i in range(3):\n",
    "    doc_topic, topic_term, doc_lengths, term_frequency, vocab = ldaseq.dtm_vis(time=i, corpus=bow_corpus)\n",
    "    vis[dates[i]] = pyLDAvis.prepare(topic_term_dists=topic_term,\n",
    "                                            doc_topic_dists=doc_topic,\n",
    "                                            doc_lengths=doc_lengths,\n",
    "                                            vocab=vocab,\n",
    "                                            term_frequency=term_frequency)\n",
    "\n",
    "# Make an interactive plot so we can cycle through topics by year:\n",
    "@interact(Year=dates)\n",
    "def f(Year):\n",
    "    return vis[Year]\n",
    "\n",
    "# optionally save\n",
    "#for i in range(len(time_slice)):\n",
    "#    pyLDAvis.save_html(vis[dates[i]], 'lda_t{}.html'.format(i))"
   ]
  },
  {
   "cell_type": "markdown",
   "metadata": {},
   "source": [
    "#### Sector: Science and Technology"
   ]
  },
  {
   "cell_type": "code",
   "execution_count": 165,
   "metadata": {},
   "outputs": [
    {
     "data": {
      "text/plain": [
       "14403                             [cultur, land, use, gis]\n",
       "14261    [modern, telecommun, competit, telecommun, fiv...\n",
       "14249    [evalu, replic, extens, pilot, teach, mathemat...\n",
       "14093    [intern, takeoff, citi, knowledg, bank, focus,...\n",
       "14046    [contribut, provis, assist, bank, region, oper...\n",
       "Name: Description, dtype: object"
      ]
     },
     "execution_count": 165,
     "metadata": {},
     "output_type": "execute_result"
    }
   ],
   "source": [
    "stemmed_tokens = dtm.tokenize(sci_and_tech['Description']) # clean text and tokenize and stem it\n",
    "\n",
    "stemmed_tokens.head()"
   ]
  },
  {
   "cell_type": "code",
   "execution_count": 166,
   "metadata": {},
   "outputs": [],
   "source": [
    "dictionary, bow_corpus = dtm.prepare_data(stemmed_tokens)"
   ]
  },
  {
   "cell_type": "code",
   "execution_count": 167,
   "metadata": {},
   "outputs": [
    {
     "data": {
      "text/plain": [
       "[8, 31, 21]"
      ]
     },
     "execution_count": 167,
     "metadata": {},
     "output_type": "execute_result"
    }
   ],
   "source": [
    "time_slice = sci_and_tech.groupby('Year')['Description'].count().to_list()\n",
    "time_slice"
   ]
  },
  {
   "cell_type": "code",
   "execution_count": 55,
   "metadata": {},
   "outputs": [
    {
     "data": {
      "image/png": "[encoded data removed]",
      "text/plain": [
       "<Figure size 432x288 with 1 Axes>"
      ]
     },
     "metadata": {
      "needs_background": "light"
     },
     "output_type": "display_data"
    }
   ],
   "source": [
    "model_list, coherence_values = dtm.compute_coherence_values(dictionary=dictionary,\n",
    "                                                           corpus=bow_corpus,\n",
    "                                                           texts=stemmed_tokens,\n",
    "                                                           start=2,\n",
    "                                                           limit=11,\n",
    "                                                           step=1)\n",
    "plt.plot(range(2, 11, 1), coherence_values)\n",
    "plt.xlabel(\"Number of Topics\")\n",
    "plt.ylabel(\"Coherence score\")\n",
    "plt.legend((\"coherence_values\"), loc='best');"
   ]
  },
  {
   "cell_type": "code",
   "execution_count": 56,
   "metadata": {},
   "outputs": [
    {
     "name": "stderr",
     "output_type": "stream",
     "text": [
      "/home/mengchenc/anaconda3/envs/macs30124/lib/python3.7/site-packages/gensim/models/ldaseqmodel.py:297: RuntimeWarning: divide by zero encountered in double_scalars\n",
      "  convergence = np.fabs((bound - old_bound) / old_bound)\n"
     ]
    }
   ],
   "source": [
    "# fit model\n",
    "ldaseq = LdaSeqModel(bow_corpus,\n",
    "                     time_slice,\n",
    "                     id2word=dictionary,\n",
    "                     num_topics=2)"
   ]
  },
  {
   "cell_type": "markdown",
   "metadata": {},
   "source": [
    "generate a coherence score for the topics ***at each time slice***"
   ]
  },
  {
   "cell_type": "code",
   "execution_count": 57,
   "metadata": {},
   "outputs": [
    {
     "name": "stdout",
     "output_type": "stream",
     "text": [
      "Coherence at Time Slice 0: -4.978790591059821\n",
      "Coherence at Time Slice 1: -4.981500115841877\n",
      "Coherence at Time Slice 2: -5.033705086627694\n",
      "Average Coherence:  -4.997998597843131\n"
     ]
    }
   ],
   "source": [
    "coherence = dtm.dtm_coherence([ldaseq],\n",
    "                              bow_corpus,\n",
    "                              dictionary,\n",
    "                              n_time_slices=len(time_slice))\n",
    "\n",
    "# check coherence for each model at each time slice\n",
    "for i, score in enumerate(coherence[0]):\n",
    "    print(\"Coherence at Time Slice {}:\".format(i), score)\n",
    "\n",
    "# compute averages for overall comparison of models\n",
    "print(\"Average Coherence: \", \n",
    "      sum(coherence[0]) / len(coherence[0]))"
   ]
  },
  {
   "cell_type": "code",
   "execution_count": 58,
   "metadata": {
    "scrolled": false
   },
   "outputs": [
    {
     "name": "stdout",
     "output_type": "stream",
     "text": [
      "##### Topic 0, Time Slice 0 #####\n",
      "['innov', 'digit', 'product', 'promot', 'strengthen', 'contribut', 'public', 'sector', 'institut', 'competit']\n",
      "##### Topic 0, Time Slice 1 #####\n",
      "['innov', 'digit', 'product', 'promot', 'strengthen', 'contribut', 'public', 'sector', 'institut', 'competit']\n",
      "##### Topic 0, Time Slice 2 #####\n",
      "['innov', 'digit', 'product', 'promot', 'strengthen', 'public', 'contribut', 'institut', 'sector', 'competit']\n",
      "\n",
      "\n",
      "##### Topic 1, Time Slice 0 #####\n",
      "['innov', 'inform', 'nation', 'polici', 'capac', 'use', 'knowledg', 'access', 'new', 'product']\n",
      "##### Topic 1, Time Slice 1 #####\n",
      "['innov', 'inform', 'nation', 'polici', 'capac', 'use', 'knowledg', 'new', 'access', 'product']\n",
      "##### Topic 1, Time Slice 2 #####\n",
      "['innov', 'nation', 'inform', 'polici', 'capac', 'knowledg', 'use', 'new', 'access', 'product']\n",
      "\n",
      "\n"
     ]
    }
   ],
   "source": [
    "dtm.print_dtm(ldaseq, n_topics=2, n_time_slices=3)"
   ]
  },
  {
   "cell_type": "code",
   "execution_count": 59,
   "metadata": {},
   "outputs": [],
   "source": [
    "# save to/load from file:\n",
    "ldaseq.save('dtm.model_3')\n",
    "\n",
    "# ldaseq = LdaSeqModel.load('dtm.model_3')"
   ]
  },
  {
   "cell_type": "markdown",
   "metadata": {},
   "source": [
    "tweak the variance parameter so that topics are allowed to change more between time slices"
   ]
  },
  {
   "cell_type": "code",
   "execution_count": 60,
   "metadata": {},
   "outputs": [
    {
     "name": "stderr",
     "output_type": "stream",
     "text": [
      "/home/mengchenc/anaconda3/envs/macs30124/lib/python3.7/site-packages/gensim/models/ldaseqmodel.py:297: RuntimeWarning: divide by zero encountered in double_scalars\n",
      "  convergence = np.fabs((bound - old_bound) / old_bound)\n"
     ]
    }
   ],
   "source": [
    "# train model with higher chain variance (e.g. topics are allowed to change more between time slices)\n",
    "ldaseq = LdaSeqModel(bow_corpus,\n",
    "                     time_slice,\n",
    "                     id2word=dictionary,\n",
    "                     num_topics=2,\n",
    "                     chain_variance=0.5)"
   ]
  },
  {
   "cell_type": "code",
   "execution_count": 61,
   "metadata": {
    "scrolled": true
   },
   "outputs": [
    {
     "name": "stdout",
     "output_type": "stream",
     "text": [
      "Coherence at Time Slice 0: -6.54112192180231\n",
      "Coherence at Time Slice 1: -5.440572889714529\n",
      "Coherence at Time Slice 2: -5.343929015037043\n",
      "Average Coherence:  -5.775207942184626\n",
      "##### Topic 0, Time Slice 0 #####\n",
      "['export', 'product', 'sector', 'inform', 'competit', 'innov', 'use', 'activ', 'polici', 'servic']\n",
      "##### Topic 0, Time Slice 1 #####\n",
      "['polici', 'innov', 'use', 'product', 'inform', 'institut', 'competit', 'access', 'design', 'new']\n",
      "##### Topic 0, Time Slice 2 #####\n",
      "['innov', 'polici', 'product', 'promot', 'digit', 'public', 'institut', 'servic', 'cluster', 'design']\n",
      "\n",
      "\n",
      "##### Topic 1, Time Slice 0 #####\n",
      "['better', 'innov', 'center', 'manag', 'inclus', 'cdi', 'digit', 'enterpris', 'sustain', 'cooper']\n",
      "##### Topic 1, Time Slice 1 #####\n",
      "['innov', 'nation', 'capac', 'strategi', 'knowledg', 'area', 'educ', 'digit', 'contribut', 'inclus']\n",
      "##### Topic 1, Time Slice 2 #####\n",
      "['capac', 'digit', 'promot', 'economi', 'innov', 'nation', 'knowledg', 'inclus', 'lac', 'strategi']\n",
      "\n",
      "\n"
     ]
    }
   ],
   "source": [
    "coherence = dtm.dtm_coherence([ldaseq],\n",
    "                              bow_corpus,\n",
    "                              dictionary,\n",
    "                              n_time_slices=len(time_slice))\n",
    "\n",
    "# check coherence for each model at each time slice\n",
    "for i, score in enumerate(coherence[0]):\n",
    "    print(\"Coherence at Time Slice {}:\".format(i), score)\n",
    "\n",
    "# compute averages for overall comparison of models\n",
    "print(\"Average Coherence: \", \n",
    "      sum(coherence[0]) / len(coherence[0]))\n",
    "\n",
    "dtm.print_dtm(ldaseq, n_topics=2, n_time_slices=3)"
   ]
  },
  {
   "cell_type": "code",
   "execution_count": 62,
   "metadata": {},
   "outputs": [],
   "source": [
    "# optionally, save to/load from file:\n",
    "ldaseq.save('dtm_var5.model_3')\n",
    "\n",
    "# ldaseq = LdaSeqModel.load('dtm_var5.model_3')"
   ]
  },
  {
   "cell_type": "code",
   "execution_count": 169,
   "metadata": {},
   "outputs": [
    {
     "data": {
      "text/html": [
       "<div>\n",
       "<style scoped>\n",
       "    .dataframe tbody tr th:only-of-type {\n",
       "        vertical-align: middle;\n",
       "    }\n",
       "\n",
       "    .dataframe tbody tr th {\n",
       "        vertical-align: top;\n",
       "    }\n",
       "\n",
       "    .dataframe thead th {\n",
       "        text-align: right;\n",
       "    }\n",
       "</style>\n",
       "<table border=\"1\" class=\"dataframe\">\n",
       "  <thead>\n",
       "    <tr style=\"text-align: right;\">\n",
       "      <th></th>\n",
       "      <th>index</th>\n",
       "      <th>Year</th>\n",
       "      <th>Sector</th>\n",
       "      <th>Description</th>\n",
       "      <th>topic0</th>\n",
       "      <th>topic1</th>\n",
       "    </tr>\n",
       "  </thead>\n",
       "  <tbody>\n",
       "    <tr>\n",
       "      <th>0</th>\n",
       "      <td>14403</td>\n",
       "      <td>2000</td>\n",
       "      <td>SCIENCE AND TECHNOLOGY</td>\n",
       "      <td>TO DEVELOP A PROGRAM OF CULTURAL LAND USE GIS.</td>\n",
       "      <td>0.002488</td>\n",
       "      <td>0.997512</td>\n",
       "    </tr>\n",
       "    <tr>\n",
       "      <th>1</th>\n",
       "      <td>14261</td>\n",
       "      <td>2000</td>\n",
       "      <td>SCIENCE AND TECHNOLOGY</td>\n",
       "      <td>This project to modernize the telecommunicatio...</td>\n",
       "      <td>0.999722</td>\n",
       "      <td>0.000278</td>\n",
       "    </tr>\n",
       "    <tr>\n",
       "      <th>2</th>\n",
       "      <td>14249</td>\n",
       "      <td>2000</td>\n",
       "      <td>SCIENCE AND TECHNOLOGY</td>\n",
       "      <td>1) To evaluate the replicability and extension...</td>\n",
       "      <td>0.998891</td>\n",
       "      <td>0.001109</td>\n",
       "    </tr>\n",
       "    <tr>\n",
       "      <th>3</th>\n",
       "      <td>14093</td>\n",
       "      <td>2000</td>\n",
       "      <td>SCIENCE AND TECHNOLOGY</td>\n",
       "      <td>A PROGRAM TO SUPPORT THE INTERNATIONAL TAKE-OF...</td>\n",
       "      <td>0.000500</td>\n",
       "      <td>0.999500</td>\n",
       "    </tr>\n",
       "    <tr>\n",
       "      <th>4</th>\n",
       "      <td>14046</td>\n",
       "      <td>2000</td>\n",
       "      <td>SCIENCE AND TECHNOLOGY</td>\n",
       "      <td>TO CONTRIBUTE IN THE PROVISION OF TECHNICAL AS...</td>\n",
       "      <td>0.999376</td>\n",
       "      <td>0.000624</td>\n",
       "    </tr>\n",
       "  </tbody>\n",
       "</table>\n",
       "</div>"
      ],
      "text/plain": [
       "   index  Year                  Sector  \\\n",
       "0  14403  2000  SCIENCE AND TECHNOLOGY   \n",
       "1  14261  2000  SCIENCE AND TECHNOLOGY   \n",
       "2  14249  2000  SCIENCE AND TECHNOLOGY   \n",
       "3  14093  2000  SCIENCE AND TECHNOLOGY   \n",
       "4  14046  2000  SCIENCE AND TECHNOLOGY   \n",
       "\n",
       "                                         Description    topic0    topic1  \n",
       "0     TO DEVELOP A PROGRAM OF CULTURAL LAND USE GIS.  0.002488  0.997512  \n",
       "1  This project to modernize the telecommunicatio...  0.999722  0.000278  \n",
       "2  1) To evaluate the replicability and extension...  0.998891  0.001109  \n",
       "3  A PROGRAM TO SUPPORT THE INTERNATIONAL TAKE-OF...  0.000500  0.999500  \n",
       "4  TO CONTRIBUTE IN THE PROVISION OF TECHNICAL AS...  0.999376  0.000624  "
      ]
     },
     "execution_count": 169,
     "metadata": {},
     "output_type": "execute_result"
    }
   ],
   "source": [
    "topic_weights = pd.DataFrame([ldaseq.doc_topics(j) for j in range(len(bow_corpus))],\n",
    "                             columns=['topic0', 'topic1'])\n",
    "df = sci_and_tech.reset_index() \\\n",
    "            .merge(topic_weights,\n",
    "                   left_index=True,\n",
    "                   right_index=True)\n",
    "df.head()"
   ]
  },
  {
   "cell_type": "markdown",
   "metadata": {},
   "source": [
    "visualization with pyLDAvis"
   ]
  },
  {
   "cell_type": "code",
   "execution_count": 170,
   "metadata": {
    "scrolled": false
   },
   "outputs": [
    {
     "data": {
      "application/vnd.jupyter.widget-view+json": {
       "model_id": "f72a8c5bf2fa423c86d389a3c31c1592",
       "version_major": 2,
       "version_minor": 0
      },
      "text/plain": [
       "interactive(children=(Dropdown(description='Year', options=('2000', '2010', '2020'), value='2000'), Output()),…"
      ]
     },
     "metadata": {},
     "output_type": "display_data"
    }
   ],
   "source": [
    "pyLDAvis.enable_notebook()\n",
    "\n",
    "# Create pyLDAvis visualization for each year:\n",
    "vis = {}\n",
    "dates = pd.Series(['2000', '2010', '2020'])\n",
    "for i in range(3):\n",
    "    doc_topic, topic_term, doc_lengths, term_frequency, vocab = ldaseq.dtm_vis(time=i, corpus=bow_corpus)\n",
    "    vis[dates[i]] = pyLDAvis.prepare(topic_term_dists=topic_term,\n",
    "                                            doc_topic_dists=doc_topic,\n",
    "                                            doc_lengths=doc_lengths,\n",
    "                                            vocab=vocab,\n",
    "                                            term_frequency=term_frequency)\n",
    "\n",
    "# Make an interactive plot so we can cycle through topics by year:\n",
    "@interact(Year=dates)\n",
    "def f(Year):\n",
    "    return vis[Year]\n",
    "\n",
    "# optionally save\n",
    "#for i in range(len(time_slice)):\n",
    "#    pyLDAvis.save_html(vis[dates[i]], 'lda_t{}.html'.format(i))"
   ]
  },
  {
   "cell_type": "markdown",
   "metadata": {},
   "source": [
    "#### Sector: Social Investment"
   ]
  },
  {
   "cell_type": "code",
   "execution_count": 171,
   "metadata": {},
   "outputs": [
    {
     "data": {
      "text/plain": [
       "14411    [consult, bank, strategi, elder, interest, pro...\n",
       "14386    [object, capabl, adecu, inform, design, follow...\n",
       "14371    [labormanag, relat, brazil, train, program, en...\n",
       "14366    [consult, bank, strategi, elder, interest, pro...\n",
       "14341    [object, qualiti, life, entir, famili, especi,...\n",
       "Name: Description, dtype: object"
      ]
     },
     "execution_count": 171,
     "metadata": {},
     "output_type": "execute_result"
    }
   ],
   "source": [
    "stemmed_tokens = dtm.tokenize(social_investment['Description']) # clean text and tokenize and stem it\n",
    "\n",
    "stemmed_tokens.head()"
   ]
  },
  {
   "cell_type": "code",
   "execution_count": 172,
   "metadata": {},
   "outputs": [],
   "source": [
    "dictionary, bow_corpus = dtm.prepare_data(stemmed_tokens)"
   ]
  },
  {
   "cell_type": "code",
   "execution_count": 173,
   "metadata": {},
   "outputs": [
    {
     "data": {
      "text/plain": [
       "[18, 56, 74]"
      ]
     },
     "execution_count": 173,
     "metadata": {},
     "output_type": "execute_result"
    }
   ],
   "source": [
    "time_slice = social_investment.groupby('Year')['Description'].count().to_list()\n",
    "time_slice"
   ]
  },
  {
   "cell_type": "code",
   "execution_count": 68,
   "metadata": {},
   "outputs": [
    {
     "data": {
      "image/png": "[encoded data removed]",
      "text/plain": [
       "<Figure size 432x288 with 1 Axes>"
      ]
     },
     "metadata": {
      "needs_background": "light"
     },
     "output_type": "display_data"
    }
   ],
   "source": [
    "model_list, coherence_values = dtm.compute_coherence_values(dictionary=dictionary,\n",
    "                                                           corpus=bow_corpus,\n",
    "                                                           texts=stemmed_tokens,\n",
    "                                                           start=2,\n",
    "                                                           limit=11,\n",
    "                                                           step=1)\n",
    "plt.plot(range(2, 11, 1), coherence_values)\n",
    "plt.xlabel(\"Number of Topics\")\n",
    "plt.ylabel(\"Coherence score\")\n",
    "plt.legend((\"coherence_values\"), loc='best');"
   ]
  },
  {
   "cell_type": "code",
   "execution_count": 69,
   "metadata": {},
   "outputs": [
    {
     "name": "stderr",
     "output_type": "stream",
     "text": [
      "/home/mengchenc/anaconda3/envs/macs30124/lib/python3.7/site-packages/gensim/models/ldaseqmodel.py:297: RuntimeWarning: divide by zero encountered in double_scalars\n",
      "  convergence = np.fabs((bound - old_bound) / old_bound)\n"
     ]
    }
   ],
   "source": [
    "# fit model\n",
    "ldaseq = LdaSeqModel(bow_corpus,\n",
    "                     time_slice,\n",
    "                     id2word=dictionary,\n",
    "                     num_topics=2)"
   ]
  },
  {
   "cell_type": "markdown",
   "metadata": {},
   "source": [
    "generate a coherence score for the topics ***at each time slice***"
   ]
  },
  {
   "cell_type": "code",
   "execution_count": 70,
   "metadata": {},
   "outputs": [
    {
     "name": "stdout",
     "output_type": "stream",
     "text": [
      "Coherence at Time Slice 0: -3.8762196872271257\n",
      "Coherence at Time Slice 1: -3.8802915693609052\n",
      "Coherence at Time Slice 2: -3.878719675609429\n",
      "Average Coherence:  -3.878410310732486\n"
     ]
    }
   ],
   "source": [
    "coherence = dtm.dtm_coherence([ldaseq],\n",
    "                              bow_corpus,\n",
    "                              dictionary,\n",
    "                              n_time_slices=len(time_slice))\n",
    "\n",
    "# check coherence for each model at each time slice\n",
    "for i, score in enumerate(coherence[0]):\n",
    "    print(\"Coherence at Time Slice {}:\".format(i), score)\n",
    "\n",
    "# compute averages for overall comparison of models\n",
    "print(\"Average Coherence: \", \n",
    "      sum(coherence[0]) / len(coherence[0]))"
   ]
  },
  {
   "cell_type": "code",
   "execution_count": 71,
   "metadata": {
    "scrolled": true
   },
   "outputs": [
    {
     "name": "stdout",
     "output_type": "stream",
     "text": [
      "##### Topic 0, Time Slice 0 #####\n",
      "['labor', 'level', 'crisi', 'incom', 'minimum', 'qualiti', 'polici', 'employ', 'peopl', 'famili']\n",
      "##### Topic 0, Time Slice 1 #####\n",
      "['labor', 'level', 'crisi', 'incom', 'minimum', 'qualiti', 'polici', 'employ', 'peopl', 'contribut']\n",
      "##### Topic 0, Time Slice 2 #####\n",
      "['labor', 'level', 'crisi', 'incom', 'minimum', 'qualiti', 'employ', 'polici', 'peopl', 'covid']\n",
      "\n",
      "\n",
      "##### Topic 1, Time Slice 0 #####\n",
      "['servic', 'train', 'polici', 'design', 'promot', 'provid', 'health', 'cooper', 'program', 'capac']\n",
      "##### Topic 1, Time Slice 1 #####\n",
      "['servic', 'polici', 'train', 'design', 'promot', 'provid', 'health', 'cooper', 'strengthen', 'public']\n",
      "##### Topic 1, Time Slice 2 #####\n",
      "['servic', 'polici', 'design', 'train', 'promot', 'provid', 'health', 'cooper', 'public', 'strengthen']\n",
      "\n",
      "\n"
     ]
    }
   ],
   "source": [
    "dtm.print_dtm(ldaseq, n_topics=2, n_time_slices=3)"
   ]
  },
  {
   "cell_type": "code",
   "execution_count": 72,
   "metadata": {},
   "outputs": [],
   "source": [
    "# optionally, save to/load from file:\n",
    "ldaseq.save('dtm.model_4')\n",
    "\n",
    "# ldaseq = LdaSeqModel.load('dtm.model_4')"
   ]
  },
  {
   "cell_type": "markdown",
   "metadata": {},
   "source": [
    "tweak the variance parameter so that topics are allowed to change more between time slices"
   ]
  },
  {
   "cell_type": "code",
   "execution_count": 73,
   "metadata": {},
   "outputs": [
    {
     "name": "stderr",
     "output_type": "stream",
     "text": [
      "/home/mengchenc/anaconda3/envs/macs30124/lib/python3.7/site-packages/gensim/models/ldaseqmodel.py:297: RuntimeWarning: divide by zero encountered in double_scalars\n",
      "  convergence = np.fabs((bound - old_bound) / old_bound)\n"
     ]
    }
   ],
   "source": [
    "# train model with higher chain variance (e.g. topics are allowed to change more between time slices)\n",
    "ldaseq = LdaSeqModel(bow_corpus,\n",
    "                     time_slice,\n",
    "                     id2word=dictionary,\n",
    "                     num_topics=2,\n",
    "                     chain_variance=0.5)"
   ]
  },
  {
   "cell_type": "code",
   "execution_count": 74,
   "metadata": {
    "scrolled": true
   },
   "outputs": [
    {
     "name": "stdout",
     "output_type": "stream",
     "text": [
      "Coherence at Time Slice 0: -4.226245245197035\n",
      "Coherence at Time Slice 1: -3.904112948126955\n",
      "Coherence at Time Slice 2: -3.0573261155782143\n",
      "Average Coherence:  -3.729228102967401\n",
      "##### Topic 0, Time Slice 0 #####\n",
      "['local', 'famili', 'violenc', 'program', 'object', 'gender', 'project', 'poverti', 'assist', 'govern']\n",
      "##### Topic 0, Time Slice 1 #####\n",
      "['oper', 'contribut', 'polici', 'process', 'gender', 'program', 'strengthen', 'poverti', 'institut', 'monitor']\n",
      "##### Topic 0, Time Slice 2 #####\n",
      "['labor', 'strengthen', 'polici', 'institut', 'promot', 'oper', 'gender', 'qualiti', 'contribut', 'program']\n",
      "\n",
      "\n",
      "##### Topic 1, Time Slice 0 #####\n",
      "['train', 'design', 'evalu', 'program', 'provid', 'partner', 'knowledg', 'servic', 'polici', 'labor']\n",
      "##### Topic 1, Time Slice 1 #####\n",
      "['evalu', 'polici', 'program', 'health', 'servic', 'labor', 'design', 'effect', 'household', 'impact']\n",
      "##### Topic 1, Time Slice 2 #####\n",
      "['covid', 'level', 'crisi', 'minimum', 'design', 'vulner', 'servic', 'peopl', 'health', 'qualiti']\n",
      "\n",
      "\n"
     ]
    }
   ],
   "source": [
    "coherence = dtm.dtm_coherence([ldaseq],\n",
    "                              bow_corpus,\n",
    "                              dictionary,\n",
    "                              n_time_slices=len(time_slice))\n",
    "\n",
    "# check coherence for each model at each time slice\n",
    "for i, score in enumerate(coherence[0]):\n",
    "    print(\"Coherence at Time Slice {}:\".format(i), score)\n",
    "\n",
    "# compute averages for overall comparison of models\n",
    "print(\"Average Coherence: \", \n",
    "      sum(coherence[0]) / len(coherence[0]))\n",
    "\n",
    "dtm.print_dtm(ldaseq, n_topics=2, n_time_slices=3)"
   ]
  },
  {
   "cell_type": "code",
   "execution_count": 75,
   "metadata": {},
   "outputs": [],
   "source": [
    "# optionally, save to/load from file:\n",
    "ldaseq.save('dtm_var5.model_4')\n",
    "\n",
    "# ldaseq = LdaSeqModel.load('dtm_var5.model_4')"
   ]
  },
  {
   "cell_type": "code",
   "execution_count": 76,
   "metadata": {},
   "outputs": [
    {
     "data": {
      "text/html": [
       "<div>\n",
       "<style scoped>\n",
       "    .dataframe tbody tr th:only-of-type {\n",
       "        vertical-align: middle;\n",
       "    }\n",
       "\n",
       "    .dataframe tbody tr th {\n",
       "        vertical-align: top;\n",
       "    }\n",
       "\n",
       "    .dataframe thead th {\n",
       "        text-align: right;\n",
       "    }\n",
       "</style>\n",
       "<table border=\"1\" class=\"dataframe\">\n",
       "  <thead>\n",
       "    <tr style=\"text-align: right;\">\n",
       "      <th></th>\n",
       "      <th>index</th>\n",
       "      <th>Year</th>\n",
       "      <th>Sector</th>\n",
       "      <th>Description</th>\n",
       "      <th>topic0</th>\n",
       "      <th>topic1</th>\n",
       "    </tr>\n",
       "  </thead>\n",
       "  <tbody>\n",
       "    <tr>\n",
       "      <th>0</th>\n",
       "      <td>14411</td>\n",
       "      <td>2000</td>\n",
       "      <td>SOCIAL INVESTMENT</td>\n",
       "      <td>CONSULTANCIES TO SUPPORT THE DEVELOPMENT BY TH...</td>\n",
       "      <td>0.998575</td>\n",
       "      <td>0.001425</td>\n",
       "    </tr>\n",
       "    <tr>\n",
       "      <th>1</th>\n",
       "      <td>14386</td>\n",
       "      <td>2000</td>\n",
       "      <td>SOCIAL INVESTMENT</td>\n",
       "      <td>The objectives of the Program is to improve th...</td>\n",
       "      <td>0.602097</td>\n",
       "      <td>0.397903</td>\n",
       "    </tr>\n",
       "    <tr>\n",
       "      <th>2</th>\n",
       "      <td>14371</td>\n",
       "      <td>2000</td>\n",
       "      <td>SOCIAL INVESTMENT</td>\n",
       "      <td>To improve labor-management relations in Brazi...</td>\n",
       "      <td>0.000907</td>\n",
       "      <td>0.999093</td>\n",
       "    </tr>\n",
       "    <tr>\n",
       "      <th>3</th>\n",
       "      <td>14366</td>\n",
       "      <td>2000</td>\n",
       "      <td>SOCIAL INVESTMENT</td>\n",
       "      <td>CONSULTANCIES TO SUPPORT THE DEVELOPMENT BY TH...</td>\n",
       "      <td>0.998575</td>\n",
       "      <td>0.001425</td>\n",
       "    </tr>\n",
       "    <tr>\n",
       "      <th>4</th>\n",
       "      <td>14341</td>\n",
       "      <td>2000</td>\n",
       "      <td>SOCIAL INVESTMENT</td>\n",
       "      <td>The general objectives of the project are to (...</td>\n",
       "      <td>0.999808</td>\n",
       "      <td>0.000192</td>\n",
       "    </tr>\n",
       "  </tbody>\n",
       "</table>\n",
       "</div>"
      ],
      "text/plain": [
       "   index  Year             Sector  \\\n",
       "0  14411  2000  SOCIAL INVESTMENT   \n",
       "1  14386  2000  SOCIAL INVESTMENT   \n",
       "2  14371  2000  SOCIAL INVESTMENT   \n",
       "3  14366  2000  SOCIAL INVESTMENT   \n",
       "4  14341  2000  SOCIAL INVESTMENT   \n",
       "\n",
       "                                         Description    topic0    topic1  \n",
       "0  CONSULTANCIES TO SUPPORT THE DEVELOPMENT BY TH...  0.998575  0.001425  \n",
       "1  The objectives of the Program is to improve th...  0.602097  0.397903  \n",
       "2  To improve labor-management relations in Brazi...  0.000907  0.999093  \n",
       "3  CONSULTANCIES TO SUPPORT THE DEVELOPMENT BY TH...  0.998575  0.001425  \n",
       "4  The general objectives of the project are to (...  0.999808  0.000192  "
      ]
     },
     "execution_count": 76,
     "metadata": {},
     "output_type": "execute_result"
    }
   ],
   "source": [
    "topic_weights = pd.DataFrame([ldaseq.doc_topics(j) for j in range(len(bow_corpus))],\n",
    "                             columns=['topic0', 'topic1'])\n",
    "df = social_investment.reset_index() \\\n",
    "            .merge(topic_weights,\n",
    "                   left_index=True,\n",
    "                   right_index=True)\n",
    "df.head()"
   ]
  },
  {
   "cell_type": "markdown",
   "metadata": {},
   "source": [
    "visualization with pyLDAvis"
   ]
  },
  {
   "cell_type": "code",
   "execution_count": 175,
   "metadata": {
    "scrolled": false
   },
   "outputs": [
    {
     "data": {
      "application/vnd.jupyter.widget-view+json": {
       "model_id": "84b55cf3a982493da493e803c7cdf527",
       "version_major": 2,
       "version_minor": 0
      },
      "text/plain": [
       "interactive(children=(Dropdown(description='Year', options=('2000', '2010', '2020'), value='2000'), Output()),…"
      ]
     },
     "metadata": {},
     "output_type": "display_data"
    }
   ],
   "source": [
    "pyLDAvis.enable_notebook()\n",
    "\n",
    "# Create pyLDAvis visualization for each year:\n",
    "vis = {}\n",
    "dates = pd.Series(['2000', '2010', '2020']) # grab two topic distribution from two time slices\n",
    "for i in range(3):\n",
    "    doc_topic, topic_term, doc_lengths, term_frequency, vocab = ldaseq.dtm_vis(time=i, corpus=bow_corpus)\n",
    "    vis[dates[i]] = pyLDAvis.prepare(topic_term_dists=topic_term,\n",
    "                                            doc_topic_dists=doc_topic,\n",
    "                                            doc_lengths=doc_lengths,\n",
    "                                            vocab=vocab,\n",
    "                                            term_frequency=term_frequency)\n",
    "\n",
    "# Make an interactive plot so we can cycle through topics by year:\n",
    "@interact(Year=dates)\n",
    "def f(Year):\n",
    "    return vis[Year]\n",
    "\n",
    "# optionally save\n",
    "#for i in range(len(time_slice)):\n",
    "#    pyLDAvis.save_html(vis[dates[i]], 'lda_t{}.html'.format(i))"
   ]
  },
  {
   "cell_type": "markdown",
   "metadata": {},
   "source": [
    "#### Sector: Transportation"
   ]
  },
  {
   "cell_type": "code",
   "execution_count": 177,
   "metadata": {},
   "outputs": [
    {
     "data": {
      "text/plain": [
       "14433    [princip, cooper, assist, viceministerio, tran...\n",
       "14390    [project, give, strength, continu, environment...\n",
       "14331        [project, transport, infrastructur, communic]\n",
       "14162    [repair, reconstruct, facil, road, seawal, bri...\n",
       "14054    [network, western, part, paraguay, facilit, re...\n",
       "Name: Description, dtype: object"
      ]
     },
     "execution_count": 177,
     "metadata": {},
     "output_type": "execute_result"
    }
   ],
   "source": [
    "stemmed_tokens = dtm.tokenize(transport['Description']) # clean text and tokenize and stem it\n",
    "\n",
    "stemmed_tokens.head()"
   ]
  },
  {
   "cell_type": "code",
   "execution_count": 178,
   "metadata": {},
   "outputs": [],
   "source": [
    "dictionary, bow_corpus = dtm.prepare_data(stemmed_tokens)"
   ]
  },
  {
   "cell_type": "code",
   "execution_count": 179,
   "metadata": {},
   "outputs": [
    {
     "data": {
      "text/plain": [
       "[7, 52, 27]"
      ]
     },
     "execution_count": 179,
     "metadata": {},
     "output_type": "execute_result"
    }
   ],
   "source": [
    "time_slice = transport.groupby('Year')['Description'].count().to_list()\n",
    "time_slice"
   ]
  },
  {
   "cell_type": "code",
   "execution_count": 91,
   "metadata": {},
   "outputs": [
    {
     "data": {
      "image/png": "[encoded data removed]",
      "text/plain": [
       "<Figure size 432x288 with 1 Axes>"
      ]
     },
     "metadata": {
      "needs_background": "light"
     },
     "output_type": "display_data"
    }
   ],
   "source": [
    "model_list, coherence_values = dtm.compute_coherence_values(dictionary=dictionary,\n",
    "                                                           corpus=bow_corpus,\n",
    "                                                           texts=stemmed_tokens,\n",
    "                                                           start=2,\n",
    "                                                           limit=11,\n",
    "                                                           step=1)\n",
    "plt.plot(range(2, 11, 1), coherence_values)\n",
    "plt.xlabel(\"Number of Topics\")\n",
    "plt.ylabel(\"Coherence score\")\n",
    "plt.legend((\"coherence_values\"), loc='best');"
   ]
  },
  {
   "cell_type": "code",
   "execution_count": 92,
   "metadata": {},
   "outputs": [
    {
     "name": "stderr",
     "output_type": "stream",
     "text": [
      "/home/mengchenc/anaconda3/envs/macs30124/lib/python3.7/site-packages/gensim/models/ldaseqmodel.py:297: RuntimeWarning: divide by zero encountered in double_scalars\n",
      "  convergence = np.fabs((bound - old_bound) / old_bound)\n"
     ]
    }
   ],
   "source": [
    "# fit model\n",
    "ldaseq = LdaSeqModel(bow_corpus,\n",
    "                     time_slice,\n",
    "                     id2word=dictionary,\n",
    "                     num_topics=2)"
   ]
  },
  {
   "cell_type": "markdown",
   "metadata": {},
   "source": [
    "generate a coherence score for the topics ***at each time slice***"
   ]
  },
  {
   "cell_type": "code",
   "execution_count": 93,
   "metadata": {},
   "outputs": [
    {
     "name": "stdout",
     "output_type": "stream",
     "text": [
      "Coherence at Time Slice 0: -3.5745520448562917\n",
      "Coherence at Time Slice 1: -3.573284049890785\n",
      "Coherence at Time Slice 2: -3.578439961003067\n",
      "Average Coherence:  -3.575425351916715\n"
     ]
    }
   ],
   "source": [
    "coherence = dtm.dtm_coherence([ldaseq],\n",
    "                              bow_corpus,\n",
    "                              dictionary,\n",
    "                              n_time_slices=len(time_slice))\n",
    "\n",
    "# check coherence for each model at each time slice\n",
    "for i, score in enumerate(coherence[0]):\n",
    "    print(\"Coherence at Time Slice {}:\".format(i), score)\n",
    "\n",
    "# compute averages for overall comparison of models\n",
    "print(\"Average Coherence: \", \n",
    "      sum(coherence[0]) / len(coherence[0]))"
   ]
  },
  {
   "cell_type": "code",
   "execution_count": 94,
   "metadata": {
    "scrolled": false
   },
   "outputs": [
    {
     "name": "stdout",
     "output_type": "stream",
     "text": [
      "##### Topic 0, Time Slice 0 #####\n",
      "['oper', 'public', 'reduc', 'network', 'transport', 'safeti', 'mobil', 'cooper', 'sustain', 'ministri']\n",
      "##### Topic 0, Time Slice 1 #####\n",
      "['oper', 'public', 'reduc', 'network', 'transport', 'safeti', 'mobil', 'cooper', 'sustain', 'ministri']\n",
      "##### Topic 0, Time Slice 2 #####\n",
      "['public', 'oper', 'reduc', 'network', 'transport', 'mobil', 'safeti', 'cooper', 'ministri', 'sustain']\n",
      "\n",
      "\n",
      "##### Topic 1, Time Slice 0 #####\n",
      "['plan', 'logist', 'region', 'environment', 'manag', 'studi', 'public', 'includ', 'sustain', 'institut']\n",
      "##### Topic 1, Time Slice 1 #####\n",
      "['plan', 'logist', 'region', 'environment', 'manag', 'studi', 'public', 'sustain', 'includ', 'institut']\n",
      "##### Topic 1, Time Slice 2 #####\n",
      "['plan', 'logist', 'region', 'environment', 'manag', 'studi', 'public', 'includ', 'sustain', 'institut']\n",
      "\n",
      "\n"
     ]
    }
   ],
   "source": [
    "dtm.print_dtm(ldaseq, n_topics=2, n_time_slices=3)"
   ]
  },
  {
   "cell_type": "code",
   "execution_count": 95,
   "metadata": {},
   "outputs": [],
   "source": [
    "# optionally, save to/load from file:\n",
    "ldaseq.save('dtm.model_5')\n",
    "\n",
    "# ldaseq = LdaSeqModel.load('dtm.model_5')"
   ]
  },
  {
   "cell_type": "markdown",
   "metadata": {},
   "source": [
    "tweak the variance parameter so that topics are allowed to change more between time slices"
   ]
  },
  {
   "cell_type": "code",
   "execution_count": 96,
   "metadata": {},
   "outputs": [
    {
     "name": "stderr",
     "output_type": "stream",
     "text": [
      "/home/mengchenc/anaconda3/envs/macs30124/lib/python3.7/site-packages/gensim/models/ldaseqmodel.py:297: RuntimeWarning: divide by zero encountered in double_scalars\n",
      "  convergence = np.fabs((bound - old_bound) / old_bound)\n"
     ]
    }
   ],
   "source": [
    "# train model with higher chain variance (e.g. topics are allowed to change more between time slices)\n",
    "ldaseq = LdaSeqModel(bow_corpus,\n",
    "                     time_slice,\n",
    "                     id2word=dictionary,\n",
    "                     num_topics=2,\n",
    "                     chain_variance=0.5)"
   ]
  },
  {
   "cell_type": "code",
   "execution_count": 97,
   "metadata": {},
   "outputs": [
    {
     "name": "stdout",
     "output_type": "stream",
     "text": [
      "Coherence at Time Slice 0: -4.172494801856352\n",
      "Coherence at Time Slice 1: -3.8026865756387123\n",
      "Coherence at Time Slice 2: -3.1080550343460316\n",
      "Average Coherence:  -3.694412137280365\n",
      "##### Topic 0, Time Slice 0 #####\n",
      "['project', 'environment', 'infrastructur', 'transport', 'public', 'rehabilit', 'cooper', 'area', 'work', 'sector']\n",
      "##### Topic 0, Time Slice 1 #####\n",
      "['environment', 'oper', 'port', 'infrastructur', 'transport', 'project', 'reduc', 'sustain', 'mobil', 'public']\n",
      "##### Topic 0, Time Slice 2 #####\n",
      "['mobil', 'transport', 'cooper', 'manag', 'public', 'provid', 'citi', 'reduc', 'sustain', 'environment']\n",
      "\n",
      "\n",
      "##### Topic 1, Time Slice 0 #####\n",
      "['safeti', 'region', 'network', 'plan', 'road', 'nation', 'institut', 'oper', 'aviat', 'framework']\n",
      "##### Topic 1, Time Slice 1 #####\n",
      "['plan', 'logist', 'public', 'nation', 'mobil', 'sustain', 'region', 'oper', 'safeti', 'transport']\n",
      "##### Topic 1, Time Slice 2 #####\n",
      "['plan', 'public', 'manag', 'ministri', 'logist', 'project', 'transport', 'integr', 'sustain', 'strengthen']\n",
      "\n",
      "\n"
     ]
    }
   ],
   "source": [
    "coherence = dtm.dtm_coherence([ldaseq],\n",
    "                              bow_corpus,\n",
    "                              dictionary,\n",
    "                              n_time_slices=len(time_slice))\n",
    "\n",
    "# check coherence for each model at each time slice\n",
    "for i, score in enumerate(coherence[0]):\n",
    "    print(\"Coherence at Time Slice {}:\".format(i), score)\n",
    "\n",
    "# compute averages for overall comparison of models\n",
    "print(\"Average Coherence: \", \n",
    "      sum(coherence[0]) / len(coherence[0]))\n",
    "\n",
    "dtm.print_dtm(ldaseq, n_topics=2, n_time_slices=3)"
   ]
  },
  {
   "cell_type": "code",
   "execution_count": 98,
   "metadata": {},
   "outputs": [],
   "source": [
    "# optionally, save to/load from file:\n",
    "ldaseq.save('dtm_var5.model_5')\n",
    "\n",
    "# ldaseq = LdaSeqModel.load('dtm_var5.model_5')"
   ]
  },
  {
   "cell_type": "code",
   "execution_count": 176,
   "metadata": {},
   "outputs": [],
   "source": [
    "ldaseq = LdaSeqModel.load('dtm_var5.model_5')"
   ]
  },
  {
   "cell_type": "code",
   "execution_count": 100,
   "metadata": {
    "scrolled": false
   },
   "outputs": [
    {
     "data": {
      "text/html": [
       "<div>\n",
       "<style scoped>\n",
       "    .dataframe tbody tr th:only-of-type {\n",
       "        vertical-align: middle;\n",
       "    }\n",
       "\n",
       "    .dataframe tbody tr th {\n",
       "        vertical-align: top;\n",
       "    }\n",
       "\n",
       "    .dataframe thead th {\n",
       "        text-align: right;\n",
       "    }\n",
       "</style>\n",
       "<table border=\"1\" class=\"dataframe\">\n",
       "  <thead>\n",
       "    <tr style=\"text-align: right;\">\n",
       "      <th></th>\n",
       "      <th>index</th>\n",
       "      <th>Year</th>\n",
       "      <th>Sector</th>\n",
       "      <th>Description</th>\n",
       "      <th>topic0</th>\n",
       "      <th>topic1</th>\n",
       "    </tr>\n",
       "  </thead>\n",
       "  <tbody>\n",
       "    <tr>\n",
       "      <th>0</th>\n",
       "      <td>14433</td>\n",
       "      <td>2000</td>\n",
       "      <td>TRANSPORT</td>\n",
       "      <td>The principal objective of this Technical Coop...</td>\n",
       "      <td>0.999778</td>\n",
       "      <td>0.000222</td>\n",
       "    </tr>\n",
       "    <tr>\n",
       "      <th>1</th>\n",
       "      <td>14390</td>\n",
       "      <td>2000</td>\n",
       "      <td>TRANSPORT</td>\n",
       "      <td>The project's main objective is to give streng...</td>\n",
       "      <td>0.999750</td>\n",
       "      <td>0.000250</td>\n",
       "    </tr>\n",
       "    <tr>\n",
       "      <th>2</th>\n",
       "      <td>14331</td>\n",
       "      <td>2000</td>\n",
       "      <td>TRANSPORT</td>\n",
       "      <td>TO SUPPORT THE IMPLEMENTATION OF PROJECTS IN T...</td>\n",
       "      <td>0.798079</td>\n",
       "      <td>0.201921</td>\n",
       "    </tr>\n",
       "    <tr>\n",
       "      <th>3</th>\n",
       "      <td>14162</td>\n",
       "      <td>2000</td>\n",
       "      <td>TRANSPORT</td>\n",
       "      <td>REPAIR AND RECONSTRUCTION OF TRANSPORT FACILIT...</td>\n",
       "      <td>0.000998</td>\n",
       "      <td>0.999002</td>\n",
       "    </tr>\n",
       "    <tr>\n",
       "      <th>4</th>\n",
       "      <td>14054</td>\n",
       "      <td>2000</td>\n",
       "      <td>TRANSPORT</td>\n",
       "      <td>IMPROVEMENT IN THE ROAD NETWORK OF THE WESTERN...</td>\n",
       "      <td>0.000416</td>\n",
       "      <td>0.999584</td>\n",
       "    </tr>\n",
       "  </tbody>\n",
       "</table>\n",
       "</div>"
      ],
      "text/plain": [
       "   index  Year     Sector                                        Description  \\\n",
       "0  14433  2000  TRANSPORT  The principal objective of this Technical Coop...   \n",
       "1  14390  2000  TRANSPORT  The project's main objective is to give streng...   \n",
       "2  14331  2000  TRANSPORT  TO SUPPORT THE IMPLEMENTATION OF PROJECTS IN T...   \n",
       "3  14162  2000  TRANSPORT  REPAIR AND RECONSTRUCTION OF TRANSPORT FACILIT...   \n",
       "4  14054  2000  TRANSPORT  IMPROVEMENT IN THE ROAD NETWORK OF THE WESTERN...   \n",
       "\n",
       "     topic0    topic1  \n",
       "0  0.999778  0.000222  \n",
       "1  0.999750  0.000250  \n",
       "2  0.798079  0.201921  \n",
       "3  0.000998  0.999002  \n",
       "4  0.000416  0.999584  "
      ]
     },
     "execution_count": 100,
     "metadata": {},
     "output_type": "execute_result"
    }
   ],
   "source": [
    "topic_weights = pd.DataFrame([ldaseq.doc_topics(j) for j in range(len(bow_corpus))],\n",
    "                             columns=['topic0', 'topic1'])\n",
    "df = transport.reset_index() \\\n",
    "            .merge(topic_weights,\n",
    "                   left_index=True,\n",
    "                   right_index=True)\n",
    "df.head()"
   ]
  },
  {
   "cell_type": "markdown",
   "metadata": {},
   "source": [
    "visualization with pyLDAvis"
   ]
  },
  {
   "cell_type": "code",
   "execution_count": 180,
   "metadata": {
    "scrolled": false
   },
   "outputs": [
    {
     "data": {
      "application/vnd.jupyter.widget-view+json": {
       "model_id": "18955d351705473db00a72ee71258338",
       "version_major": 2,
       "version_minor": 0
      },
      "text/plain": [
       "interactive(children=(Dropdown(description='Year', options=('2000', '2010', '2020'), value='2000'), Output()),…"
      ]
     },
     "metadata": {},
     "output_type": "display_data"
    }
   ],
   "source": [
    "pyLDAvis.enable_notebook()\n",
    "\n",
    "# Create pyLDAvis visualization for each year:\n",
    "vis = {}\n",
    "dates = pd.Series(['2000', '2010', '2020']) \n",
    "for i in range(3):\n",
    "    doc_topic, topic_term, doc_lengths, term_frequency, vocab = ldaseq.dtm_vis(time=i, corpus=bow_corpus)\n",
    "    vis[dates[i]] = pyLDAvis.prepare(topic_term_dists=topic_term,\n",
    "                                            doc_topic_dists=doc_topic,\n",
    "                                            doc_lengths=doc_lengths,\n",
    "                                            vocab=vocab,\n",
    "                                            term_frequency=term_frequency)\n",
    "\n",
    "# Make an interactive plot so we can cycle through topics by year:\n",
    "@interact(Year=dates)\n",
    "def f(Year):\n",
    "    return vis[Year]\n",
    "\n",
    "# optionally save\n",
    "# for i in range(len(time_slice)):\n",
    "#     pyLDAvis.save_html(vis[dates[i]], 'lda_t{}.html'.format(i))"
   ]
  }
 ],
 "metadata": {
  "@webio": {
   "lastCommId": null,
   "lastKernelId": null
  },
  "kernelspec": {
   "display_name": "Python 3 (ipykernel)",
   "language": "python",
   "name": "python3"
  },
  "language_info": {
   "codemirror_mode": {
    "name": "ipython",
    "version": 3
   },
   "file_extension": ".py",
   "mimetype": "text/x-python",
   "name": "python",
   "nbconvert_exporter": "python",
   "pygments_lexer": "ipython3",
   "version": "3.7.10"
  }
 },
 "nbformat": 4,
 "nbformat_minor": 4
}
